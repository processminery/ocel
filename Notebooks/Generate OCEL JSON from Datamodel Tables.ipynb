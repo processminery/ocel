{
 "cells": [
  {
   "cell_type": "markdown",
   "metadata": {},
   "source": [
    "# Pulling data from a Data Model and generate OCEL JSON file"
   ]
  },
  {
   "cell_type": "code",
   "execution_count": 1,
   "metadata": {},
   "outputs": [],
   "source": [
    "import pandas as pd\n",
    "import json\n",
    "from typing import Dict, Optional, Any\n",
    "from io import BytesIO\n",
    "from pycelonis import get_celonis\n",
    "from pycelonis.pql.pql import PQL, PQLColumn\n",
    "from pycelonis.service.integration.service import ExportType\n",
    "from pycelonis.ems.data_integration.data_pool import DataModel"
   ]
  },
  {
   "cell_type": "code",
   "execution_count": 2,
   "metadata": {
    "tags": []
   },
   "outputs": [],
   "source": [
    "#https://github.com/fit-alessandro-berti/pm4py-core/blob/celonis-integration/pm4py/algo/celonis/retrieval/dm_retrieval.py\n",
    "def apply(data_model: DataModel, parameters: Optional[Dict[Any, Any]] = None) -> Dict[str, pd.DataFrame]:\n",
    "    \"\"\"\n",
    "    Retrieves the tables of a data model in Celonis\n",
    "\n",
    "    Parameters\n",
    "    --------------\n",
    "    data_model\n",
    "        Celonis data model\n",
    "\n",
    "    Returns\n",
    "    -------------\n",
    "    dct\n",
    "        Dictionary associating each name to a dataframe extracted from the data model\n",
    "    \"\"\"\n",
    "    if parameters is None:\n",
    "        parameters = {}\n",
    "\n",
    "    dct = {}\n",
    "    tables = data_model.get_tables()\n",
    "    for table in tables:\n",
    "        table2 = data_model.get_table(table.id)\n",
    "        columns = table2.get_columns()\n",
    "        buffer = BytesIO()\n",
    "        excluded_columns = set()\n",
    "        for i in range(2):\n",
    "            try:\n",
    "                pql = PQL()\n",
    "                for col in columns:\n",
    "                    if not col.name.startswith(\"_\"):\n",
    "                        fname = \"\\\"\" + table2.name + \"\\\".\\\"\" + col.name + \"\\\"\"\n",
    "                        if fname not in excluded_columns:\n",
    "                            pql.add(PQLColumn(query=fname, name=col.name))\n",
    "                dexp = data_model.create_data_export(query=pql, export_type=ExportType.PARQUET)\n",
    "                dexp.wait_for_execution()\n",
    "                chunks = dexp.get_chunks()\n",
    "                for chunk in chunks:\n",
    "                    buffer.write(chunk.read())\n",
    "                df = pd.read_parquet(buffer)\n",
    "                dct[table.name] = df\n",
    "                break\n",
    "            except Exception as e:\n",
    "                e = str(e)\n",
    "                cols = e.split(\" is missing\")\n",
    "                for c in cols:\n",
    "                    c = c.split(\"Column \")[-1]\n",
    "                    excluded_columns.add(c)\n",
    "    return dct"
   ]
  },
  {
   "cell_type": "markdown",
   "metadata": {},
   "source": [
    "# Extract all tables from a data model in Celonis"
   ]
  },
  {
   "cell_type": "code",
   "execution_count": 3,
   "metadata": {},
   "outputs": [
    {
     "name": "stdout",
     "output_type": "stream",
     "text": [
      "[2023-06-27 10:52:53,324] INFO: No `base_url` given. Using environment variable 'CELONIS_URL'\n",
      "[2023-06-27 10:52:53,324] INFO: No `api_token` given. Using environment variable 'CELONIS_API_TOKEN'\n"
     ]
    },
    {
     "name": "stderr",
     "output_type": "stream",
     "text": [
      "[2023-06-27 10:52:53,371] WARNING: Your PyCelonis Version 2.2.0 is outdated (Newest Version: 2.3.0). Please upgrade the package via: pip install --extra-index-url=https://pypi.celonis.cloud/ pycelonis pycelonis_core --upgrade\n",
      "[2023-06-27 10:52:53,415] WARNING: KeyType is not set. Defaulted to 'APP_KEY'.\n"
     ]
    },
    {
     "name": "stdout",
     "output_type": "stream",
     "text": [
      "[2023-06-27 10:52:53,424] INFO: Initial connect successful! PyCelonis Version: 2.2.0\n",
      "[2023-06-27 10:52:53,447] INFO: `package-manager` permissions: ['EDIT_ALL_SPACES', 'MANAGE_PERMISSIONS', 'CREATE_SPACE', 'DELETE_ALL_SPACES']\n",
      "[2023-06-27 10:52:53,448] INFO: `workflows` permissions: []\n",
      "[2023-06-27 10:52:53,448] INFO: `task-mining` permissions: []\n",
      "[2023-06-27 10:52:53,449] INFO: `action-engine` permissions: ['CREATE_PROJECTS', 'MANAGE_SKILLS', 'ACCESS_ALL_PROJECTS', 'MY_INBOX']\n",
      "[2023-06-27 10:52:53,450] INFO: `team` permissions: ['MANAGE_AUDIT_LOGS', 'MANAGE_SSO_SETTINGS', 'USE_AUDIT_LOGS_API', 'MANAGE_ADOPTION_VIEWS', 'MANAGE_GENERAL_SETTINGS', 'MANAGE_GROUPS', 'MANAGE_APPLICATIONS', 'MANAGE_LOGIN_HISTORY', 'MANAGE_LICENSE_SETTINGS', 'USE_LOGIN_HISTORY_API', 'MANAGE_MEMBERS', 'MANAGE_UPLINK_INTEGRATIONS', 'MANAGE_PERMISSIONS', 'MANAGE_ADMIN_NOTIFICATIONS', 'IMPORT_MEMBERS', 'MANAGE_MEMBER_LOCKING_POLICY']\n",
      "[2023-06-27 10:52:53,450] INFO: `process-repository` permissions: []\n",
      "[2023-06-27 10:52:53,451] INFO: `process-analytics` permissions: ['CREATE_WORKSPACE', 'MOVE_TO', 'DELETE_ALL_WORKSPACES', 'DELETE_ALL_ANALYSES', 'EDIT_ALL_ANALYSES', 'EDIT_ALL_WORKSPACES', 'USE_ALL_ANALYSES', 'CREATE_ANALYSES', 'MANAGE_PERMISSIONS', 'EXPORT_CONTENT']\n",
      "[2023-06-27 10:52:53,452] INFO: `transformation-center` permissions: []\n",
      "[2023-06-27 10:52:53,452] INFO: `storage-manager` permissions: []\n",
      "[2023-06-27 10:52:53,453] INFO: `event-collection` permissions: ['USE_ALL_DATA_MODELS', 'CREATE_DATA_POOL', 'EDIT_ALL_DATA_POOLS']\n",
      "[2023-06-27 10:52:53,453] INFO: `user-provisioning` permissions: []\n",
      "[2023-06-27 10:52:53,454] INFO: `ml-workbench` permissions: ['DELETE_SCHEDULERS', 'EDIT_SCHEDULERS', 'USE_ALL_SCHEDULERS', 'USE_ALL_APPS', 'CREATE_SCHEDULERS', 'MANAGE_ALL_APPS', 'CREATE_WORKSPACES', 'MANAGE_SCHEDULERS_PERMISSIONS', 'VIEW_CONFIGURATION', 'CREATE_APPS', 'MANAGE_ALL_MLFLOWS', 'CREATE_MLFLOWS', 'USE_ALL_MLFLOWS', 'MANAGE_ALL_WORKSPACES']\n"
     ]
    }
   ],
   "source": [
    "celonis = get_celonis()"
   ]
  },
  {
   "cell_type": "code",
   "execution_count": 4,
   "metadata": {
    "tags": []
   },
   "outputs": [],
   "source": [
    "#celonis.data_integration.get_data_pools()"
   ]
  },
  {
   "cell_type": "code",
   "execution_count": 5,
   "metadata": {
    "tags": []
   },
   "outputs": [],
   "source": [
    "data_pool_id = '8cd1f9f8-668a-441f-8e46-47d5fef97156'\n",
    "data_pool = celonis.data_integration.get_data_pool(data_pool_id)"
   ]
  },
  {
   "cell_type": "code",
   "execution_count": 6,
   "metadata": {
    "tags": []
   },
   "outputs": [
    {
     "data": {
      "text/plain": [
       "[\n",
       "\tDataModel(id='2abf9d9d-ce35-4f60-b9e9-463e5aad9751', name='Oracle EBS P2P OCEL', pool_id='8cd1f9f8-668a-441f-8e46-47d5fef97156'),\n",
       "\tDataModel(id='d974d6c1-6866-407f-97df-d7320a3fa9c2', name='Oracle EBS P2P OCEL (New setup)', pool_id='8cd1f9f8-668a-441f-8e46-47d5fef97156')\n",
       "]"
      ]
     },
     "execution_count": 6,
     "metadata": {},
     "output_type": "execute_result"
    }
   ],
   "source": [
    "data_pool.get_data_models()"
   ]
  },
  {
   "cell_type": "code",
   "execution_count": 7,
   "metadata": {
    "tags": []
   },
   "outputs": [],
   "source": [
    "data_model_id = 'd974d6c1-6866-407f-97df-d7320a3fa9c2'"
   ]
  },
  {
   "cell_type": "code",
   "execution_count": 8,
   "metadata": {
    "tags": []
   },
   "outputs": [
    {
     "data": {
      "text/plain": [
       "DataModel(id='d974d6c1-6866-407f-97df-d7320a3fa9c2', name='Oracle EBS P2P OCEL (New setup)', pool_id='8cd1f9f8-668a-441f-8e46-47d5fef97156')"
      ]
     },
     "execution_count": 8,
     "metadata": {},
     "output_type": "execute_result"
    }
   ],
   "source": [
    "data_model = data_pool.get_data_model(data_model_id)\n",
    "data_model"
   ]
  },
  {
   "cell_type": "code",
   "execution_count": 9,
   "metadata": {
    "tags": []
   },
   "outputs": [
    {
     "name": "stdout",
     "output_type": "stream",
     "text": [
      "[2023-06-27 10:52:53,907] INFO: Successfully created data export with id 'c97fd2fa-c875-4139-a532-47be16596814'\n",
      "[2023-06-27 10:52:53,908] INFO: Wait for execution of data export with id 'c97fd2fa-c875-4139-a532-47be16596814'\n"
     ]
    },
    {
     "data": {
      "application/vnd.jupyter.widget-view+json": {
       "model_id": "6226529efff749bf96f333a80e7a57d6",
       "version_major": 2,
       "version_minor": 0
      },
      "text/plain": [
       "0it [00:00, ?it/s]"
      ]
     },
     "metadata": {},
     "output_type": "display_data"
    },
    {
     "name": "stdout",
     "output_type": "stream",
     "text": [
      "[2023-06-27 10:52:55,997] INFO: Export result chunks for data export with id 'c97fd2fa-c875-4139-a532-47be16596814'\n",
      "[2023-06-27 10:52:58,095] INFO: Successfully created data export with id 'c34b38b4-b489-4edb-88db-c6ee14cc9fd8'\n",
      "[2023-06-27 10:52:58,096] INFO: Wait for execution of data export with id 'c34b38b4-b489-4edb-88db-c6ee14cc9fd8'\n"
     ]
    },
    {
     "data": {
      "application/vnd.jupyter.widget-view+json": {
       "model_id": "4a96eb44e59349deb4d7dea7d2d2cd13",
       "version_major": 2,
       "version_minor": 0
      },
      "text/plain": [
       "0it [00:00, ?it/s]"
      ]
     },
     "metadata": {},
     "output_type": "display_data"
    },
    {
     "name": "stdout",
     "output_type": "stream",
     "text": [
      "[2023-06-27 10:53:00,175] INFO: Export result chunks for data export with id 'c34b38b4-b489-4edb-88db-c6ee14cc9fd8'\n",
      "[2023-06-27 10:53:00,457] INFO: Successfully created data export with id '6e3496b8-aa27-471b-ae38-b8a54c54089a'\n",
      "[2023-06-27 10:53:00,458] INFO: Wait for execution of data export with id '6e3496b8-aa27-471b-ae38-b8a54c54089a'\n"
     ]
    },
    {
     "data": {
      "application/vnd.jupyter.widget-view+json": {
       "model_id": "c888f7a9eb974d1aadfd4df1a8a64338",
       "version_major": 2,
       "version_minor": 0
      },
      "text/plain": [
       "0it [00:00, ?it/s]"
      ]
     },
     "metadata": {},
     "output_type": "display_data"
    },
    {
     "name": "stdout",
     "output_type": "stream",
     "text": [
      "[2023-06-27 10:53:00,502] INFO: Export result chunks for data export with id '6e3496b8-aa27-471b-ae38-b8a54c54089a'\n",
      "[2023-06-27 10:53:00,711] INFO: Successfully created data export with id 'bbc821e3-edec-4d89-8091-f62ed356854b'\n",
      "[2023-06-27 10:53:00,712] INFO: Wait for execution of data export with id 'bbc821e3-edec-4d89-8091-f62ed356854b'\n"
     ]
    },
    {
     "data": {
      "application/vnd.jupyter.widget-view+json": {
       "model_id": "a3060b0267b74f82bf34845dad299fb6",
       "version_major": 2,
       "version_minor": 0
      },
      "text/plain": [
       "0it [00:00, ?it/s]"
      ]
     },
     "metadata": {},
     "output_type": "display_data"
    },
    {
     "name": "stdout",
     "output_type": "stream",
     "text": [
      "[2023-06-27 10:53:02,783] INFO: Export result chunks for data export with id 'bbc821e3-edec-4d89-8091-f62ed356854b'\n",
      "[2023-06-27 10:53:03,015] INFO: Successfully created data export with id 'e33b679d-1a77-444a-b5b1-e7af4eb6b2f1'\n",
      "[2023-06-27 10:53:03,016] INFO: Wait for execution of data export with id 'e33b679d-1a77-444a-b5b1-e7af4eb6b2f1'\n"
     ]
    },
    {
     "data": {
      "application/vnd.jupyter.widget-view+json": {
       "model_id": "53a17c6105cd4a3cbb4d0899584f1cb0",
       "version_major": 2,
       "version_minor": 0
      },
      "text/plain": [
       "0it [00:00, ?it/s]"
      ]
     },
     "metadata": {},
     "output_type": "display_data"
    },
    {
     "name": "stdout",
     "output_type": "stream",
     "text": [
      "[2023-06-27 10:53:05,090] INFO: Export result chunks for data export with id 'e33b679d-1a77-444a-b5b1-e7af4eb6b2f1'\n",
      "[2023-06-27 10:53:05,320] INFO: Successfully created data export with id 'c653e751-6975-4726-a726-d8631d9df55b'\n",
      "[2023-06-27 10:53:05,321] INFO: Wait for execution of data export with id 'c653e751-6975-4726-a726-d8631d9df55b'\n"
     ]
    },
    {
     "data": {
      "application/vnd.jupyter.widget-view+json": {
       "model_id": "0691b46bc90d4af09e9d4068fa1b9406",
       "version_major": 2,
       "version_minor": 0
      },
      "text/plain": [
       "0it [00:00, ?it/s]"
      ]
     },
     "metadata": {},
     "output_type": "display_data"
    },
    {
     "name": "stdout",
     "output_type": "stream",
     "text": [
      "[2023-06-27 10:53:07,394] INFO: Export result chunks for data export with id 'c653e751-6975-4726-a726-d8631d9df55b'\n",
      "[2023-06-27 10:53:07,568] INFO: Successfully created data export with id '799e7658-4592-4427-808f-74a5c8826e86'\n",
      "[2023-06-27 10:53:07,569] INFO: Wait for execution of data export with id '799e7658-4592-4427-808f-74a5c8826e86'\n"
     ]
    },
    {
     "data": {
      "application/vnd.jupyter.widget-view+json": {
       "model_id": "012d25215de1430bbbb76bce02e356ce",
       "version_major": 2,
       "version_minor": 0
      },
      "text/plain": [
       "0it [00:00, ?it/s]"
      ]
     },
     "metadata": {},
     "output_type": "display_data"
    },
    {
     "name": "stdout",
     "output_type": "stream",
     "text": [
      "[2023-06-27 10:53:09,635] INFO: Export result chunks for data export with id '799e7658-4592-4427-808f-74a5c8826e86'\n",
      "[2023-06-27 10:53:10,055] INFO: Successfully created data export with id '9b2a744e-c988-47d9-bb70-5dfbc95b9faf'\n",
      "[2023-06-27 10:53:10,056] INFO: Wait for execution of data export with id '9b2a744e-c988-47d9-bb70-5dfbc95b9faf'\n"
     ]
    },
    {
     "data": {
      "application/vnd.jupyter.widget-view+json": {
       "model_id": "14c77b7246f349f2b4dcecbf73d3ae9b",
       "version_major": 2,
       "version_minor": 0
      },
      "text/plain": [
       "0it [00:00, ?it/s]"
      ]
     },
     "metadata": {},
     "output_type": "display_data"
    },
    {
     "name": "stdout",
     "output_type": "stream",
     "text": [
      "[2023-06-27 10:53:12,129] INFO: Export result chunks for data export with id '9b2a744e-c988-47d9-bb70-5dfbc95b9faf'\n",
      "[2023-06-27 10:53:12,423] INFO: Successfully created data export with id '05aace72-38eb-41ad-98b8-d2d72e8fafc5'\n",
      "[2023-06-27 10:53:12,424] INFO: Wait for execution of data export with id '05aace72-38eb-41ad-98b8-d2d72e8fafc5'\n"
     ]
    },
    {
     "data": {
      "application/vnd.jupyter.widget-view+json": {
       "model_id": "c5b0d71f7e8c4907a92a65d61831dda3",
       "version_major": 2,
       "version_minor": 0
      },
      "text/plain": [
       "0it [00:00, ?it/s]"
      ]
     },
     "metadata": {},
     "output_type": "display_data"
    },
    {
     "name": "stdout",
     "output_type": "stream",
     "text": [
      "[2023-06-27 10:53:14,495] INFO: Export result chunks for data export with id '05aace72-38eb-41ad-98b8-d2d72e8fafc5'\n",
      "[2023-06-27 10:53:14,673] INFO: Successfully created data export with id '0030b96c-bcbd-4de9-92bd-2a5cd91b1d21'\n",
      "[2023-06-27 10:53:14,674] INFO: Wait for execution of data export with id '0030b96c-bcbd-4de9-92bd-2a5cd91b1d21'\n"
     ]
    },
    {
     "data": {
      "application/vnd.jupyter.widget-view+json": {
       "model_id": "162e84abe7aa426fa9d2c87dac2e3cb9",
       "version_major": 2,
       "version_minor": 0
      },
      "text/plain": [
       "0it [00:00, ?it/s]"
      ]
     },
     "metadata": {},
     "output_type": "display_data"
    },
    {
     "name": "stdout",
     "output_type": "stream",
     "text": [
      "[2023-06-27 10:53:16,743] INFO: Export result chunks for data export with id '0030b96c-bcbd-4de9-92bd-2a5cd91b1d21'\n",
      "[2023-06-27 10:53:16,973] INFO: Successfully created data export with id 'f4c0c278-c8c0-4f7f-9403-a7ee99309f45'\n",
      "[2023-06-27 10:53:16,974] INFO: Wait for execution of data export with id 'f4c0c278-c8c0-4f7f-9403-a7ee99309f45'\n"
     ]
    },
    {
     "data": {
      "application/vnd.jupyter.widget-view+json": {
       "model_id": "298cd8f818804d1c9013007944b38d74",
       "version_major": 2,
       "version_minor": 0
      },
      "text/plain": [
       "0it [00:00, ?it/s]"
      ]
     },
     "metadata": {},
     "output_type": "display_data"
    },
    {
     "name": "stdout",
     "output_type": "stream",
     "text": [
      "[2023-06-27 10:53:17,011] INFO: Export result chunks for data export with id 'f4c0c278-c8c0-4f7f-9403-a7ee99309f45'\n",
      "[2023-06-27 10:53:17,193] INFO: Successfully created data export with id '6e2bc99d-0359-4a52-add3-11884722366b'\n",
      "[2023-06-27 10:53:17,194] INFO: Wait for execution of data export with id '6e2bc99d-0359-4a52-add3-11884722366b'\n"
     ]
    },
    {
     "data": {
      "application/vnd.jupyter.widget-view+json": {
       "model_id": "27f13a8406bc4eb2b8771e26079fa8c7",
       "version_major": 2,
       "version_minor": 0
      },
      "text/plain": [
       "0it [00:00, ?it/s]"
      ]
     },
     "metadata": {},
     "output_type": "display_data"
    },
    {
     "name": "stdout",
     "output_type": "stream",
     "text": [
      "[2023-06-27 10:53:19,264] INFO: Export result chunks for data export with id '6e2bc99d-0359-4a52-add3-11884722366b'\n",
      "[2023-06-27 10:53:21,488] INFO: Successfully created data export with id 'ed4cf689-8456-43c1-ad99-e12e67363ea5'\n",
      "[2023-06-27 10:53:21,489] INFO: Wait for execution of data export with id 'ed4cf689-8456-43c1-ad99-e12e67363ea5'\n"
     ]
    },
    {
     "data": {
      "application/vnd.jupyter.widget-view+json": {
       "model_id": "4be6458197934b648431ce2f78781b55",
       "version_major": 2,
       "version_minor": 0
      },
      "text/plain": [
       "0it [00:00, ?it/s]"
      ]
     },
     "metadata": {},
     "output_type": "display_data"
    },
    {
     "name": "stdout",
     "output_type": "stream",
     "text": [
      "[2023-06-27 10:53:23,553] INFO: Export result chunks for data export with id 'ed4cf689-8456-43c1-ad99-e12e67363ea5'\n",
      "[2023-06-27 10:53:23,735] INFO: Successfully created data export with id '2bd25ea6-c536-47ae-8e9f-54b6e4a35cad'\n",
      "[2023-06-27 10:53:23,736] INFO: Wait for execution of data export with id '2bd25ea6-c536-47ae-8e9f-54b6e4a35cad'\n"
     ]
    },
    {
     "data": {
      "application/vnd.jupyter.widget-view+json": {
       "model_id": "35a82f3888bf4391bdc8f09913241714",
       "version_major": 2,
       "version_minor": 0
      },
      "text/plain": [
       "0it [00:00, ?it/s]"
      ]
     },
     "metadata": {},
     "output_type": "display_data"
    },
    {
     "name": "stdout",
     "output_type": "stream",
     "text": [
      "[2023-06-27 10:53:25,802] INFO: Export result chunks for data export with id '2bd25ea6-c536-47ae-8e9f-54b6e4a35cad'\n",
      "[2023-06-27 10:53:26,048] INFO: Successfully created data export with id '13532399-edee-43bd-826b-d790948e35ba'\n",
      "[2023-06-27 10:53:26,049] INFO: Wait for execution of data export with id '13532399-edee-43bd-826b-d790948e35ba'\n"
     ]
    },
    {
     "data": {
      "application/vnd.jupyter.widget-view+json": {
       "model_id": "10fd26bfebc543fe8b6530fedf5635b9",
       "version_major": 2,
       "version_minor": 0
      },
      "text/plain": [
       "0it [00:00, ?it/s]"
      ]
     },
     "metadata": {},
     "output_type": "display_data"
    },
    {
     "name": "stdout",
     "output_type": "stream",
     "text": [
      "[2023-06-27 10:53:28,123] INFO: Export result chunks for data export with id '13532399-edee-43bd-826b-d790948e35ba'\n",
      "[2023-06-27 10:53:28,333] INFO: Successfully created data export with id 'c86931e0-7a1e-48cf-b973-050037bd2d78'\n",
      "[2023-06-27 10:53:28,334] INFO: Wait for execution of data export with id 'c86931e0-7a1e-48cf-b973-050037bd2d78'\n"
     ]
    },
    {
     "data": {
      "application/vnd.jupyter.widget-view+json": {
       "model_id": "6de4965333e44f93b520561549e3caec",
       "version_major": 2,
       "version_minor": 0
      },
      "text/plain": [
       "0it [00:00, ?it/s]"
      ]
     },
     "metadata": {},
     "output_type": "display_data"
    },
    {
     "name": "stdout",
     "output_type": "stream",
     "text": [
      "[2023-06-27 10:53:28,371] INFO: Export result chunks for data export with id 'c86931e0-7a1e-48cf-b973-050037bd2d78'\n",
      "[2023-06-27 10:53:28,529] INFO: Successfully created data export with id '7acbe09e-d63c-4ba8-9a6f-7f5884e1f24a'\n",
      "[2023-06-27 10:53:28,530] INFO: Wait for execution of data export with id '7acbe09e-d63c-4ba8-9a6f-7f5884e1f24a'\n"
     ]
    },
    {
     "data": {
      "application/vnd.jupyter.widget-view+json": {
       "model_id": "0a7ba2f134ce45e6bcb44c0834c3389d",
       "version_major": 2,
       "version_minor": 0
      },
      "text/plain": [
       "0it [00:00, ?it/s]"
      ]
     },
     "metadata": {},
     "output_type": "display_data"
    },
    {
     "name": "stdout",
     "output_type": "stream",
     "text": [
      "[2023-06-27 10:53:28,566] INFO: Export result chunks for data export with id '7acbe09e-d63c-4ba8-9a6f-7f5884e1f24a'\n",
      "[2023-06-27 10:53:28,732] INFO: Successfully created data export with id 'd6db24de-e15e-427e-9dd4-8e7cb5dda355'\n",
      "[2023-06-27 10:53:28,733] INFO: Wait for execution of data export with id 'd6db24de-e15e-427e-9dd4-8e7cb5dda355'\n"
     ]
    },
    {
     "data": {
      "application/vnd.jupyter.widget-view+json": {
       "model_id": "e7d322a4ca3e408e9ee694c2da6ec8b2",
       "version_major": 2,
       "version_minor": 0
      },
      "text/plain": [
       "0it [00:00, ?it/s]"
      ]
     },
     "metadata": {},
     "output_type": "display_data"
    },
    {
     "name": "stdout",
     "output_type": "stream",
     "text": [
      "[2023-06-27 10:53:30,794] INFO: Export result chunks for data export with id 'd6db24de-e15e-427e-9dd4-8e7cb5dda355'\n",
      "[2023-06-27 10:53:31,016] INFO: Successfully created data export with id '15d7256a-8067-42f3-a133-f7eee030679e'\n",
      "[2023-06-27 10:53:31,017] INFO: Wait for execution of data export with id '15d7256a-8067-42f3-a133-f7eee030679e'\n"
     ]
    },
    {
     "data": {
      "application/vnd.jupyter.widget-view+json": {
       "model_id": "60e801e5f14941b298edca3e849c5a70",
       "version_major": 2,
       "version_minor": 0
      },
      "text/plain": [
       "0it [00:00, ?it/s]"
      ]
     },
     "metadata": {},
     "output_type": "display_data"
    },
    {
     "name": "stdout",
     "output_type": "stream",
     "text": [
      "[2023-06-27 10:53:31,051] INFO: Export result chunks for data export with id '15d7256a-8067-42f3-a133-f7eee030679e'\n",
      "[2023-06-27 10:53:31,224] INFO: Successfully created data export with id '38032324-8e0c-4e05-ba17-7a7d71233ee4'\n",
      "[2023-06-27 10:53:31,225] INFO: Wait for execution of data export with id '38032324-8e0c-4e05-ba17-7a7d71233ee4'\n"
     ]
    },
    {
     "data": {
      "application/vnd.jupyter.widget-view+json": {
       "model_id": "a79874aa92954174a8aae2774c127b99",
       "version_major": 2,
       "version_minor": 0
      },
      "text/plain": [
       "0it [00:00, ?it/s]"
      ]
     },
     "metadata": {},
     "output_type": "display_data"
    },
    {
     "name": "stdout",
     "output_type": "stream",
     "text": [
      "[2023-06-27 10:53:31,261] INFO: Export result chunks for data export with id '38032324-8e0c-4e05-ba17-7a7d71233ee4'\n",
      "[2023-06-27 10:53:31,450] INFO: Successfully created data export with id '87d9d137-d0a6-4166-9052-f55e98d544f6'\n",
      "[2023-06-27 10:53:31,451] INFO: Wait for execution of data export with id '87d9d137-d0a6-4166-9052-f55e98d544f6'\n"
     ]
    },
    {
     "data": {
      "application/vnd.jupyter.widget-view+json": {
       "model_id": "fd32a28001de454fa1699b8ba66ac1e5",
       "version_major": 2,
       "version_minor": 0
      },
      "text/plain": [
       "0it [00:00, ?it/s]"
      ]
     },
     "metadata": {},
     "output_type": "display_data"
    },
    {
     "name": "stdout",
     "output_type": "stream",
     "text": [
      "[2023-06-27 10:53:33,511] INFO: Export result chunks for data export with id '87d9d137-d0a6-4166-9052-f55e98d544f6'\n",
      "[2023-06-27 10:53:33,706] INFO: Successfully created data export with id 'e708b5eb-a0a1-4e97-b8b3-266ea522ab78'\n",
      "[2023-06-27 10:53:33,707] INFO: Wait for execution of data export with id 'e708b5eb-a0a1-4e97-b8b3-266ea522ab78'\n"
     ]
    },
    {
     "data": {
      "application/vnd.jupyter.widget-view+json": {
       "model_id": "954e5b0031d6496aae794ba64daeb4b2",
       "version_major": 2,
       "version_minor": 0
      },
      "text/plain": [
       "0it [00:00, ?it/s]"
      ]
     },
     "metadata": {},
     "output_type": "display_data"
    },
    {
     "name": "stdout",
     "output_type": "stream",
     "text": [
      "[2023-06-27 10:53:35,778] INFO: Export result chunks for data export with id 'e708b5eb-a0a1-4e97-b8b3-266ea522ab78'\n",
      "[2023-06-27 10:53:35,962] INFO: Successfully created data export with id '66b795c9-fe42-434f-baea-8d1ccd9e76ef'\n",
      "[2023-06-27 10:53:35,962] INFO: Wait for execution of data export with id '66b795c9-fe42-434f-baea-8d1ccd9e76ef'\n"
     ]
    },
    {
     "data": {
      "application/vnd.jupyter.widget-view+json": {
       "model_id": "654688222fc44212a9bed6b2b088b0c4",
       "version_major": 2,
       "version_minor": 0
      },
      "text/plain": [
       "0it [00:00, ?it/s]"
      ]
     },
     "metadata": {},
     "output_type": "display_data"
    },
    {
     "name": "stdout",
     "output_type": "stream",
     "text": [
      "[2023-06-27 10:53:38,026] INFO: Export result chunks for data export with id '66b795c9-fe42-434f-baea-8d1ccd9e76ef'\n",
      "[2023-06-27 10:53:38,248] INFO: Successfully created data export with id '3d2a9471-1823-4788-b0f0-305c2975d182'\n",
      "[2023-06-27 10:53:38,249] INFO: Wait for execution of data export with id '3d2a9471-1823-4788-b0f0-305c2975d182'\n"
     ]
    },
    {
     "data": {
      "application/vnd.jupyter.widget-view+json": {
       "model_id": "b6fc6ba0900649c1b3201aab1e43c4eb",
       "version_major": 2,
       "version_minor": 0
      },
      "text/plain": [
       "0it [00:00, ?it/s]"
      ]
     },
     "metadata": {},
     "output_type": "display_data"
    },
    {
     "name": "stdout",
     "output_type": "stream",
     "text": [
      "[2023-06-27 10:53:40,310] INFO: Export result chunks for data export with id '3d2a9471-1823-4788-b0f0-305c2975d182'\n",
      "[2023-06-27 10:53:40,528] INFO: Successfully created data export with id 'd2dc54fa-bfc6-4930-9f43-550574cc93aa'\n",
      "[2023-06-27 10:53:40,529] INFO: Wait for execution of data export with id 'd2dc54fa-bfc6-4930-9f43-550574cc93aa'\n"
     ]
    },
    {
     "data": {
      "application/vnd.jupyter.widget-view+json": {
       "model_id": "2f458486a20a48c39407fc00cb9d1310",
       "version_major": 2,
       "version_minor": 0
      },
      "text/plain": [
       "0it [00:00, ?it/s]"
      ]
     },
     "metadata": {},
     "output_type": "display_data"
    },
    {
     "name": "stdout",
     "output_type": "stream",
     "text": [
      "[2023-06-27 10:53:42,592] INFO: Export result chunks for data export with id 'd2dc54fa-bfc6-4930-9f43-550574cc93aa'\n",
      "[2023-06-27 10:53:42,815] INFO: Successfully created data export with id 'd94f50fb-5d8f-4c2c-bf9e-1b651f408c8a'\n",
      "[2023-06-27 10:53:42,815] INFO: Wait for execution of data export with id 'd94f50fb-5d8f-4c2c-bf9e-1b651f408c8a'\n"
     ]
    },
    {
     "data": {
      "application/vnd.jupyter.widget-view+json": {
       "model_id": "fd620e4a605142b096b58cee8d1f4151",
       "version_major": 2,
       "version_minor": 0
      },
      "text/plain": [
       "0it [00:00, ?it/s]"
      ]
     },
     "metadata": {},
     "output_type": "display_data"
    },
    {
     "name": "stdout",
     "output_type": "stream",
     "text": [
      "[2023-06-27 10:53:44,879] INFO: Export result chunks for data export with id 'd94f50fb-5d8f-4c2c-bf9e-1b651f408c8a'\n",
      "[2023-06-27 10:53:45,099] INFO: Successfully created data export with id 'bebc4daf-6bb7-4127-9ece-3a1472a60a9b'\n",
      "[2023-06-27 10:53:45,100] INFO: Wait for execution of data export with id 'bebc4daf-6bb7-4127-9ece-3a1472a60a9b'\n"
     ]
    },
    {
     "data": {
      "application/vnd.jupyter.widget-view+json": {
       "model_id": "ea593892e42a41969b299b4d2849cc76",
       "version_major": 2,
       "version_minor": 0
      },
      "text/plain": [
       "0it [00:00, ?it/s]"
      ]
     },
     "metadata": {},
     "output_type": "display_data"
    },
    {
     "name": "stdout",
     "output_type": "stream",
     "text": [
      "[2023-06-27 10:53:47,167] INFO: Export result chunks for data export with id 'bebc4daf-6bb7-4127-9ece-3a1472a60a9b'\n"
     ]
    }
   ],
   "source": [
    "#Call the function with the data model to get all the tables extracted\n",
    "dataframe_dict = apply(data_model)"
   ]
  },
  {
   "cell_type": "code",
   "execution_count": 10,
   "metadata": {
    "tags": []
   },
   "outputs": [
    {
     "name": "stdout",
     "output_type": "stream",
     "text": [
      "dict_keys(['_LINK_EVENT_ID_OBJECT_ID', '_PL_PO_LINES_ALL', '_CA_PO_HEADERS_ALL_CONTRACTS', '_PO_PO_HEADERS_ALL', '_PR_PO_REQUISITION_HEADERS_ALL', '_SU_AP_SUPPLIERS', '_AI_AP_INVOICES_ALL', '_GR_RCV_SHIPMENT_HEADERS', '_IH_AP_HOLDS_ALL', '_IP_AP_INVOICE_PAYMENTS_ALL', '_BA_IBY_EXT_BANK_ACCOUNTS', '_EVENTLOG', '_LINK_AI_IH', '_LINK_AI_IP', '_LINK_BA_IP', '_LINK_BA_SU', '_LINK_CA_PO', '_LINK_CA_PR', '_LINK_CA_SU', '_LINK_GR_AI', '_LINK_PO_AI', '_LINK_PO_GR', '_LINK_PO_PL', '_LINK_PR_PO', '_LINK_SU_AI', '_LINK_SU_GR', '_LINK_SU_PO'])\n"
     ]
    }
   ],
   "source": [
    "# the tables exported into dataframes\n",
    "print(dataframe_dict.keys())"
   ]
  },
  {
   "cell_type": "code",
   "execution_count": 11,
   "metadata": {
    "tags": []
   },
   "outputs": [],
   "source": [
    "# # drop some of the dataframes to keep size of the sample ocel file limited\n",
    "# keys_to_drop = ['_PL_PO_LINES_ALL', '_CA_PO_HEADERS_ALL_CONTRACTS', '_IH_AP_HOLDS_ALL', '_IP_AP_INVOICE_PAYMENTS_ALL', '_GR_RCV_SHIPMENT_HEADERS']\n",
    "\n",
    "# for key in list(dataframe_dict.keys()):  # use list() to create a copy of keys\n",
    "#     if key.startswith('_LINK') or key in keys_to_drop:\n",
    "#         # Don't remove the _LINK_EVENT_ID_OBJECT_ID dataframe\n",
    "#         if key != '_LINK_EVENT_ID_OBJECT_ID':\n",
    "#             dataframe_dict.pop(key)"
   ]
  },
  {
   "cell_type": "markdown",
   "metadata": {
    "tags": []
   },
   "source": [
    "# Use the exported dataframes to generate the OCEL JSON file"
   ]
  },
  {
   "cell_type": "code",
   "execution_count": 12,
   "metadata": {
    "tags": []
   },
   "outputs": [],
   "source": [
    "# get the unique attribute names for the objects\n",
    "# Initialize an empty set to store unique column names\n",
    "attribute_names = set()\n",
    "\n",
    "# Iterate over each DataFrame in the dictionary\n",
    "for key, df in dataframe_dict.items():\n",
    "    # If the key does not start with '_LINK'\n",
    "    if not key.startswith('_LINK'):\n",
    "        # Add the column names to the set\n",
    "        attribute_names.update(df.columns)\n",
    "\n",
    "# Convert the set to a list\n",
    "attribute_names_list = list(attribute_names)\n",
    "\n",
    "# attribute_names_list is a list containing the unique column names\n",
    "#attribute_names_list"
   ]
  },
  {
   "cell_type": "code",
   "execution_count": 13,
   "metadata": {
    "tags": []
   },
   "outputs": [],
   "source": [
    "# define object type mapping dictionary\n",
    "object_type_mapping_dict = {\n",
    "    'IH': 'InvoiceHold', \n",
    "    'AI': 'APInvoice', \n",
    "    'IP': 'InvoicePayment', \n",
    "    'SU': 'Supplier', \n",
    "    'BA': 'BankAccount', \n",
    "    'PO': 'PurchaseOrder',\n",
    "    'PR': 'PurchaseRequisition', \n",
    "    'CA': 'ContractAgreement', \n",
    "    'PL': 'PurchaseOrderLine', \n",
    "    'GR': 'GoodsReceipt'\n",
    "}"
   ]
  },
  {
   "cell_type": "code",
   "execution_count": 14,
   "metadata": {
    "tags": []
   },
   "outputs": [],
   "source": [
    "# Get the unique object types\n",
    "# Get the _LINK_EVENT_ID_OBJECT_ID DataFrame from the dictionary\n",
    "df_link = dataframe_dict['_LINK_EVENT_ID_OBJECT_ID']\n",
    "\n",
    "# Ensure 'OBJECT_ID' and 'EVENT_ID' is a string\n",
    "df_link['OBJECT_ID'] = df_link['OBJECT_ID'].astype(str)\n",
    "df_link['EVENT_ID'] = df_link['EVENT_ID'].astype(str)\n",
    "\n",
    "#get the unique object types in a list\n",
    "object_types = df_link['OBJECT_ID'].apply(lambda x: x[:2]).unique()\n",
    "\n",
    "# Map the unique_values to their full names and convert to list\n",
    "object_types_list = [object_type_mapping_dict.get(value, value) for value in object_types]\n",
    "\n",
    "# object_types_list is a list with the unique full names of the object types\n",
    "#object_types_list"
   ]
  },
  {
   "cell_type": "code",
   "execution_count": 15,
   "metadata": {
    "tags": []
   },
   "outputs": [],
   "source": [
    "##only 1000 rows for testing purposes\n",
    "#df_link = df_link.iloc[:1000]"
   ]
  },
  {
   "cell_type": "code",
   "execution_count": 16,
   "metadata": {
    "tags": []
   },
   "outputs": [],
   "source": [
    "# get all the events\n",
    "events_df = dataframe_dict['_EVENTLOG']\n",
    "events_df['EVENT_ID'] = events_df['EVENT_ID'].astype(str)\n",
    "events_df['EVENTTIME'] = pd.to_datetime(events_df['EVENTTIME'])"
   ]
  },
  {
   "cell_type": "code",
   "execution_count": 17,
   "metadata": {
    "tags": []
   },
   "outputs": [],
   "source": [
    "##only 1000 rows for testing purposes\n",
    "#events_df = events_df.iloc[:1000]"
   ]
  },
  {
   "cell_type": "code",
   "execution_count": 18,
   "metadata": {
    "tags": []
   },
   "outputs": [],
   "source": [
    "# get the object id's per event id in a dictionary\n",
    "event_id_to_object_ids = df_link.groupby('EVENT_ID')['OBJECT_ID'].apply(list).to_dict()"
   ]
  },
  {
   "cell_type": "code",
   "execution_count": 19,
   "metadata": {
    "tags": []
   },
   "outputs": [],
   "source": [
    "# Open the file\n",
    "with open('ocel_oracle_ebs_p2p.jsonocel', 'w') as f:\n",
    "    # Write the start of the dictionary\n",
    "    f.write('{')\n",
    "\n",
    "    # Write the static parts of the JSON data\n",
    "    f.write('\"ocel:global-event\": {\"ocel:activity\": \"__INVALID__\"},')\n",
    "    f.write('\"ocel:global-object\": {\"ocel:type\": \"__INVALID__\"},')\n",
    "    f.write('\"ocel:global-log\": {\"ocel:attribute-names\": ' + json.dumps(attribute_names_list) + ', \"ocel:object-types\": ' + json.dumps(object_types_list) + ', \"ocel:version\": \"1.0\", \"ocel:ordering\": \"timestamp\"},')\n",
    "                \n",
    "            \n",
    "    # Write the start of the \"ocel:events\" list\n",
    "    f.write('\"ocel:events\": {')\n",
    "    \n",
    "    # Exclude columns already used\n",
    "    attribute_columns = [col for col in events_df.columns if col not in ['EVENT_ID', 'ACTIVITY_EN', 'EVENTTIME', 'PRIMARY_OBJECT_ID','ACTIVITY_NL','ACTIVITY_DETAIL_NL']]\n",
    "    \n",
    "    # Iterate over the rows in df_events\n",
    "    first_event = True\n",
    "    for _, event_row in events_df.iterrows():\n",
    "        # Get the objects for this event from event_id_to_object_ids\n",
    "        objects = event_id_to_object_ids.get(event_row['EVENT_ID'], [])\n",
    "\n",
    "        # Create attribute map\n",
    "        attributes = {attr: str(event_row[attr]) for attr in attribute_columns if pd.notnull(event_row[attr])}  # Only include attributes with valid values\n",
    "\n",
    "        # If this isn't the first event, write a comma to separate it from the previous event\n",
    "        if not first_event:\n",
    "            f.write(',')\n",
    "        else:\n",
    "            first_event = False\n",
    "\n",
    "            \n",
    "        # Create the event data dictionary\n",
    "        event_data = {\n",
    "            'ocel:activity': event_row['ACTIVITY_EN'],\n",
    "            'ocel:timestamp': event_row['EVENTTIME'].isoformat(),\n",
    "            'ocel:omap': objects,\n",
    "            'ocel:vmap': attributes\n",
    "        }\n",
    "\n",
    "        # Write the event data\n",
    "        f.write(f'\"{event_row[\"EVENT_ID\"]}\": ' + json.dumps(event_data))\n",
    "            \n",
    "    # Write the end of the \"ocel:events\" list\n",
    "    f.write('},')\n",
    "\n",
    "    # Write the start of the \"ocel:objects\" list\n",
    "    f.write('\"ocel:objects\": {')\n",
    "\n",
    "    # Iterate over the dataframes in dataframe_dict\n",
    "    first_object = True\n",
    "    for df_name, df in dataframe_dict.items():\n",
    "        if not df_name.startswith('_LINK') and not df_name.startswith('_EVENTLOG'):\n",
    "            # Iterate over the rows in the dataframe\n",
    "            for _, row in df.iterrows():\n",
    "                # Extract type\n",
    "                object_type_abbr = row['OBJECT_ID'][:2]\n",
    "                object_type = object_type_mapping_dict.get(object_type_abbr, object_type_abbr)  # map object type abbreviation to full name\n",
    "\n",
    "                # Create a dictionary for this object\n",
    "                object_dict = {col: str(row[col]) for col in df.columns if col != 'OBJECT_ID' and pd.notnull(row[col])}\n",
    "\n",
    "                # If this isn't the first object, write a comma to separate it from the previous object\n",
    "                if not first_object:\n",
    "                    f.write(',')\n",
    "                else:\n",
    "                    first_object = False\n",
    "                    \n",
    "                # Create the object data dictionary\n",
    "                object_data = {\n",
    "                    'ocel:type': object_type,\n",
    "                    'ocel:ovmap': object_dict\n",
    "                }\n",
    "                \n",
    "                # Write the object data\n",
    "                f.write(f'\"{row[\"OBJECT_ID\"]}\": ' + json.dumps(object_data))\n",
    "\n",
    "    # Write the end of the \"ocel:objects\" list and the end of the dictionary\n",
    "    f.write('}}')"
   ]
  },
  {
   "cell_type": "code",
   "execution_count": null,
   "metadata": {},
   "outputs": [],
   "source": []
  }
 ],
 "metadata": {
  "jupytext": {
   "formats": "ipynb,py:percent"
  },
  "kernelspec": {
   "display_name": "Python 3 (ipykernel)",
   "language": "python",
   "name": "python3"
  },
  "language_info": {
   "codemirror_mode": {
    "name": "ipython",
    "version": 3
   },
   "file_extension": ".py",
   "mimetype": "text/x-python",
   "name": "python",
   "nbconvert_exporter": "python",
   "pygments_lexer": "ipython3",
   "version": "3.8.6"
  }
 },
 "nbformat": 4,
 "nbformat_minor": 4
}
